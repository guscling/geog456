{
 "cells": [
  {
   "cell_type": "code",
   "execution_count": 1,
   "id": "e1c02f3d-634f-4115-8916-f635522a374d",
   "metadata": {
    "scrolled": true
   },
   "outputs": [],
   "source": [
    "import numpy as np\n",
    "from datascience import *\n",
    "import csv\n",
    "import os\n",
    "os.chdir('/Users/gusclingroth/GEOG456/Assignments')\n",
    "ACLED = Table().read_table(\"ACLED_5.csv\")"
   ]
  },
  {
   "cell_type": "code",
   "execution_count": 2,
   "id": "e1f118be-a743-46e3-aa02-9aecfafdcaae",
   "metadata": {},
   "outputs": [
    {
     "data": {
      "text/html": [
       "<table border=\"1\" class=\"dataframe\">\n",
       "    <thead>\n",
       "        <tr>\n",
       "            <th>EVENT_ID_CNTY</th> <th>EVENT_DATE</th> <th>YEAR</th> <th>TIME_PRECISION</th> <th>EVENT_TYPE</th> <th>SUB_EVENT_TYPE</th> <th>ACTOR1</th> <th>ACTOR2</th> <th>CIVILIAN_TARGETING</th> <th>COUNTRY</th> <th>ADMIN1</th> <th>LOCATION</th> <th>LATITUDE</th> <th>LONGITUDE</th> <th>GEO_PRECISION</th> <th>FATALITIES</th> <th>TAGS</th> <th>TIMESTAMP</th>\n",
       "        </tr>\n",
       "    </thead>\n",
       "    <tbody>\n",
       "        <tr>\n",
       "            <td>UKR54571     </td> <td>27-Feb-22 </td> <td>2022</td> <td>1             </td> <td>Explosions/Remote violence</td> <td>Shelling/artillery/missile attack</td> <td>Military Forces of Russia (2000-)          </td> <td>nan                               </td> <td>nan               </td> <td>Ukraine</td> <td>Ivano-Frankivsk</td> <td>Ivano-Frankivsk</td> <td>48.922  </td> <td>24.71    </td> <td>1            </td> <td>0         </td> <td>nan </td> <td>1649184811</td>\n",
       "        </tr>\n",
       "        <tr>\n",
       "            <td>UKR77196     </td> <td>15-Oct-22 </td> <td>2022</td> <td>1             </td> <td>Explosions/Remote violence</td> <td>Shelling/artillery/missile attack</td> <td>Military Forces of Russia (2000-)          </td> <td>Military Forces of Ukraine (2019-)</td> <td>nan               </td> <td>Ukraine</td> <td>Donetsk        </td> <td>Zarichne       </td> <td>49.019  </td> <td>37.921   </td> <td>2            </td> <td>10        </td> <td>nan </td> <td>1693927407</td>\n",
       "        </tr>\n",
       "        <tr>\n",
       "            <td>UKR86383     </td> <td>29-Dec-22 </td> <td>2022</td> <td>1             </td> <td>Explosions/Remote violence</td> <td>Shelling/artillery/missile attack</td> <td>Military Forces of Russia (2000-)          </td> <td>nan                               </td> <td>nan               </td> <td>Ukraine</td> <td>Odesa          </td> <td>Stepove        </td> <td>46.7    </td> <td>30.075   </td> <td>1            </td> <td>0         </td> <td>nan </td> <td>1673376409</td>\n",
       "        </tr>\n",
       "        <tr>\n",
       "            <td>UKR63181     </td> <td>15-Jul-22 </td> <td>2022</td> <td>1             </td> <td>Explosions/Remote violence</td> <td>Air/drone strike                 </td> <td>Military Forces of Russia (2000-) Air Force</td> <td>Civilians (Ukraine)               </td> <td>Civilian targeting</td> <td>Ukraine</td> <td>Dnipropetrovsk </td> <td>Dnipro         </td> <td>48.459  </td> <td>35.039   </td> <td>1            </td> <td>3         </td> <td>nan </td> <td>1682436936</td>\n",
       "        </tr>\n",
       "        <tr>\n",
       "            <td>UKR75308     </td> <td>6-Oct-22  </td> <td>2022</td> <td>1             </td> <td>Battles                   </td> <td>Armed clash                      </td> <td>Military Forces of Russia (2000-)          </td> <td>Military Forces of Ukraine (2019-)</td> <td>nan               </td> <td>Ukraine</td> <td>Donetsk        </td> <td>Bakhmut        </td> <td>48.596  </td> <td>38       </td> <td>2            </td> <td>0         </td> <td>nan </td> <td>1665508789</td>\n",
       "        </tr>\n",
       "        <tr>\n",
       "            <td>UKR71965     </td> <td>8-Sep-22  </td> <td>2022</td> <td>1             </td> <td>Explosions/Remote violence</td> <td>Shelling/artillery/missile attack</td> <td>Military Forces of Russia (2000-)          </td> <td>nan                               </td> <td>nan               </td> <td>Ukraine</td> <td>Donetsk        </td> <td>Siversk        </td> <td>48.873  </td> <td>38.096   </td> <td>2            </td> <td>0         </td> <td>nan </td> <td>1663096253</td>\n",
       "        </tr>\n",
       "        <tr>\n",
       "            <td>UKR65016     </td> <td>28-Jul-22 </td> <td>2022</td> <td>1             </td> <td>Explosions/Remote violence</td> <td>Shelling/artillery/missile attack</td> <td>Military Forces of Russia (2000-)          </td> <td>Civilians (Ukraine)               </td> <td>Civilian targeting</td> <td>Ukraine</td> <td>Kherson        </td> <td>Arkhanhelske   </td> <td>47.432  </td> <td>33.406   </td> <td>1            </td> <td>1         </td> <td>nan </td> <td>1659462993</td>\n",
       "        </tr>\n",
       "        <tr>\n",
       "            <td>UKR84816     </td> <td>14-Dec-22 </td> <td>2022</td> <td>1             </td> <td>Explosions/Remote violence</td> <td>Shelling/artillery/missile attack</td> <td>Military Forces of Russia (2000-)          </td> <td>nan                               </td> <td>nan               </td> <td>Ukraine</td> <td>Sumy           </td> <td>Putyvl         </td> <td>51.337  </td> <td>33.871   </td> <td>2            </td> <td>0         </td> <td>nan </td> <td>1673376404</td>\n",
       "        </tr>\n",
       "        <tr>\n",
       "            <td>UKR125016    </td> <td>30-Aug-22 </td> <td>2022</td> <td>1             </td> <td>Explosions/Remote violence</td> <td>Shelling/artillery/missile attack</td> <td>Military Forces of Russia (2000-)          </td> <td>Military Forces of Ukraine (2019-)</td> <td>nan               </td> <td>Ukraine</td> <td>Kherson        </td> <td>Novovorontsovka</td> <td>47.5    </td> <td>33.917   </td> <td>2            </td> <td>0         </td> <td>nan </td> <td>1694008046</td>\n",
       "        </tr>\n",
       "        <tr>\n",
       "            <td>UKR61960     </td> <td>28-Jun-22 </td> <td>2022</td> <td>1             </td> <td>Explosions/Remote violence</td> <td>Shelling/artillery/missile attack</td> <td>Military Forces of Russia (2000-)          </td> <td>nan                               </td> <td>nan               </td> <td>Ukraine</td> <td>Zaporizhia     </td> <td>Kamianske      </td> <td>47.542  </td> <td>35.366   </td> <td>1            </td> <td>0         </td> <td>nan </td> <td>1657040029</td>\n",
       "        </tr>\n",
       "    </tbody>\n",
       "</table>\n",
       "<p>... (290 rows omitted)</p>"
      ],
      "text/plain": [
       "EVENT_ID_CNTY | EVENT_DATE | YEAR | TIME_PRECISION | EVENT_TYPE                 | SUB_EVENT_TYPE                    | ACTOR1                                      | ACTOR2                             | CIVILIAN_TARGETING | COUNTRY | ADMIN1          | LOCATION        | LATITUDE | LONGITUDE | GEO_PRECISION | FATALITIES | TAGS | TIMESTAMP\n",
       "UKR54571      | 27-Feb-22  | 2022 | 1              | Explosions/Remote violence | Shelling/artillery/missile attack | Military Forces of Russia (2000-)           | nan                                | nan                | Ukraine | Ivano-Frankivsk | Ivano-Frankivsk | 48.922   | 24.71     | 1             | 0          | nan  | 1649184811\n",
       "UKR77196      | 15-Oct-22  | 2022 | 1              | Explosions/Remote violence | Shelling/artillery/missile attack | Military Forces of Russia (2000-)           | Military Forces of Ukraine (2019-) | nan                | Ukraine | Donetsk         | Zarichne        | 49.019   | 37.921    | 2             | 10         | nan  | 1693927407\n",
       "UKR86383      | 29-Dec-22  | 2022 | 1              | Explosions/Remote violence | Shelling/artillery/missile attack | Military Forces of Russia (2000-)           | nan                                | nan                | Ukraine | Odesa           | Stepove         | 46.7     | 30.075    | 1             | 0          | nan  | 1673376409\n",
       "UKR63181      | 15-Jul-22  | 2022 | 1              | Explosions/Remote violence | Air/drone strike                  | Military Forces of Russia (2000-) Air Force | Civilians (Ukraine)                | Civilian targeting | Ukraine | Dnipropetrovsk  | Dnipro          | 48.459   | 35.039    | 1             | 3          | nan  | 1682436936\n",
       "UKR75308      | 6-Oct-22   | 2022 | 1              | Battles                    | Armed clash                       | Military Forces of Russia (2000-)           | Military Forces of Ukraine (2019-) | nan                | Ukraine | Donetsk         | Bakhmut         | 48.596   | 38        | 2             | 0          | nan  | 1665508789\n",
       "UKR71965      | 8-Sep-22   | 2022 | 1              | Explosions/Remote violence | Shelling/artillery/missile attack | Military Forces of Russia (2000-)           | nan                                | nan                | Ukraine | Donetsk         | Siversk         | 48.873   | 38.096    | 2             | 0          | nan  | 1663096253\n",
       "UKR65016      | 28-Jul-22  | 2022 | 1              | Explosions/Remote violence | Shelling/artillery/missile attack | Military Forces of Russia (2000-)           | Civilians (Ukraine)                | Civilian targeting | Ukraine | Kherson         | Arkhanhelske    | 47.432   | 33.406    | 1             | 1          | nan  | 1659462993\n",
       "UKR84816      | 14-Dec-22  | 2022 | 1              | Explosions/Remote violence | Shelling/artillery/missile attack | Military Forces of Russia (2000-)           | nan                                | nan                | Ukraine | Sumy            | Putyvl          | 51.337   | 33.871    | 2             | 0          | nan  | 1673376404\n",
       "UKR125016     | 30-Aug-22  | 2022 | 1              | Explosions/Remote violence | Shelling/artillery/missile attack | Military Forces of Russia (2000-)           | Military Forces of Ukraine (2019-) | nan                | Ukraine | Kherson         | Novovorontsovka | 47.5     | 33.917    | 2             | 0          | nan  | 1694008046\n",
       "UKR61960      | 28-Jun-22  | 2022 | 1              | Explosions/Remote violence | Shelling/artillery/missile attack | Military Forces of Russia (2000-)           | nan                                | nan                | Ukraine | Zaporizhia      | Kamianske       | 47.542   | 35.366    | 1             | 0          | nan  | 1657040029\n",
       "... (290 rows omitted)"
      ]
     },
     "execution_count": 2,
     "metadata": {},
     "output_type": "execute_result"
    }
   ],
   "source": [
    "ACLED_2022 = ACLED.where('YEAR',2022).sample(300)\n",
    "ACLED_2022"
   ]
  },
  {
   "cell_type": "code",
   "execution_count": 3,
   "id": "f9ae84c3-f087-43be-b4bf-f3722cb8c1ff",
   "metadata": {},
   "outputs": [
    {
     "data": {
      "text/html": [
       "<table border=\"1\" class=\"dataframe\">\n",
       "    <thead>\n",
       "        <tr>\n",
       "            <th>EVENT_ID_CNTY</th> <th>EVENT_DATE</th> <th>YEAR</th> <th>TIME_PRECISION</th> <th>EVENT_TYPE</th> <th>SUB_EVENT_TYPE</th> <th>ACTOR1</th> <th>ACTOR2</th> <th>CIVILIAN_TARGETING</th> <th>COUNTRY</th> <th>ADMIN1</th> <th>LOCATION</th> <th>LATITUDE</th> <th>LONGITUDE</th> <th>GEO_PRECISION</th> <th>FATALITIES</th> <th>TAGS</th> <th>TIMESTAMP</th>\n",
       "        </tr>\n",
       "    </thead>\n",
       "    <tbody>\n",
       "        <tr>\n",
       "            <td>UKR138477    </td> <td>29-Nov-23 </td> <td>2023</td> <td>1             </td> <td>Battles                   </td> <td>Armed clash                      </td> <td>Military Forces of Russia (2000-)           </td> <td>Military Forces of Ukraine (2019-)</td> <td>nan               </td> <td>Ukraine</td> <td>Donetsk   </td> <td>Torske     </td> <td>49.017  </td> <td>37.961   </td> <td>2            </td> <td>0         </td> <td>nan </td> <td>1701813041</td>\n",
       "        </tr>\n",
       "        <tr>\n",
       "            <td>RUS9679      </td> <td>3-Apr-23  </td> <td>2023</td> <td>1             </td> <td>Explosions/Remote violence</td> <td>Air/drone strike                 </td> <td>Military Forces of Ukraine (2019-) Air Force</td> <td>Military Forces of Russia (2000-) </td> <td>nan               </td> <td>Russia </td> <td>Bryansk   </td> <td>Sevsk      </td> <td>52.148  </td> <td>34.489   </td> <td>1            </td> <td>0         </td> <td>nan </td> <td>1681311958</td>\n",
       "        </tr>\n",
       "        <tr>\n",
       "            <td>UKR88498     </td> <td>15-Jan-23 </td> <td>2023</td> <td>1             </td> <td>Explosions/Remote violence</td> <td>Shelling/artillery/missile attack</td> <td>Military Forces of Russia (2000-)           </td> <td>nan                               </td> <td>nan               </td> <td>Ukraine</td> <td>Kherson   </td> <td>Sadove     </td> <td>46.705  </td> <td>32.822   </td> <td>1            </td> <td>0         </td> <td>nan </td> <td>1674572556</td>\n",
       "        </tr>\n",
       "        <tr>\n",
       "            <td>RUS12150     </td> <td>25-Sep-23 </td> <td>2023</td> <td>2             </td> <td>Explosions/Remote violence</td> <td>Air/drone strike                 </td> <td>Unidentified Armed Group (Russia)           </td> <td>nan                               </td> <td>nan               </td> <td>Russia </td> <td>Voronezh  </td> <td>Yamnoye    </td> <td>51.793  </td> <td>39.142   </td> <td>1            </td> <td>0         </td> <td>nan </td> <td>1696959098</td>\n",
       "        </tr>\n",
       "        <tr>\n",
       "            <td>UKR133189    </td> <td>27-Oct-23 </td> <td>2023</td> <td>1             </td> <td>Battles                   </td> <td>Armed clash                      </td> <td>Military Forces of Russia (2000-)           </td> <td>Military Forces of Ukraine (2019-)</td> <td>nan               </td> <td>Ukraine</td> <td>Kharkiv   </td> <td>Synkivka   </td> <td>49.763  </td> <td>37.705   </td> <td>2            </td> <td>5         </td> <td>nan </td> <td>1698774976</td>\n",
       "        </tr>\n",
       "        <tr>\n",
       "            <td>UKR92056     </td> <td>11-Feb-23 </td> <td>2023</td> <td>1             </td> <td>Explosions/Remote violence</td> <td>Shelling/artillery/missile attack</td> <td>Military Forces of Russia (2000-)           </td> <td>nan                               </td> <td>nan               </td> <td>Ukraine</td> <td>Kharkiv   </td> <td>Vilshana   </td> <td>49.793  </td> <td>37.762   </td> <td>2            </td> <td>0         </td> <td>nan </td> <td>1677001539</td>\n",
       "        </tr>\n",
       "        <tr>\n",
       "            <td>UKR112643    </td> <td>19-Jul-23 </td> <td>2023</td> <td>1             </td> <td>Explosions/Remote violence</td> <td>Shelling/artillery/missile attack</td> <td>Military Forces of Russia (2000-)           </td> <td>nan                               </td> <td>nan               </td> <td>Ukraine</td> <td>Zaporizhia</td> <td>Bilohiria  </td> <td>47.527  </td> <td>36       </td> <td>1            </td> <td>0         </td> <td>nan </td> <td>1690294196</td>\n",
       "        </tr>\n",
       "        <tr>\n",
       "            <td>UKR91468     </td> <td>4-Feb-23  </td> <td>2023</td> <td>1             </td> <td>Battles                   </td> <td>Armed clash                      </td> <td>Military Forces of Russia (2000-)           </td> <td>Military Forces of Ukraine (2019-)</td> <td>nan               </td> <td>Ukraine</td> <td>Luhansk   </td> <td>Nevske     </td> <td>49.158  </td> <td>37.975   </td> <td>2            </td> <td>0         </td> <td>nan </td> <td>1677001538</td>\n",
       "        </tr>\n",
       "        <tr>\n",
       "            <td>UKR104964    </td> <td>24-May-23 </td> <td>2023</td> <td>1             </td> <td>Explosions/Remote violence</td> <td>Shelling/artillery/missile attack</td> <td>Military Forces of Russia (2000-)           </td> <td>nan                               </td> <td>nan               </td> <td>Ukraine</td> <td>Chernihiv </td> <td>Yanzhulivka</td> <td>52.294  </td> <td>32.56    </td> <td>1            </td> <td>0         </td> <td>nan </td> <td>1685470246</td>\n",
       "        </tr>\n",
       "        <tr>\n",
       "            <td>UKR95003     </td> <td>6-Mar-23  </td> <td>2023</td> <td>1             </td> <td>Explosions/Remote violence</td> <td>Shelling/artillery/missile attack</td> <td>Military Forces of Russia (2000-)           </td> <td>nan                               </td> <td>nan               </td> <td>Ukraine</td> <td>Donetsk   </td> <td>Rozdolivka </td> <td>48.754  </td> <td>38.081   </td> <td>2            </td> <td>0         </td> <td>nan </td> <td>1678805153</td>\n",
       "        </tr>\n",
       "    </tbody>\n",
       "</table>\n",
       "<p>... (290 rows omitted)</p>"
      ],
      "text/plain": [
       "EVENT_ID_CNTY | EVENT_DATE | YEAR | TIME_PRECISION | EVENT_TYPE                 | SUB_EVENT_TYPE                    | ACTOR1                                       | ACTOR2                             | CIVILIAN_TARGETING | COUNTRY | ADMIN1     | LOCATION    | LATITUDE | LONGITUDE | GEO_PRECISION | FATALITIES | TAGS | TIMESTAMP\n",
       "UKR138477     | 29-Nov-23  | 2023 | 1              | Battles                    | Armed clash                       | Military Forces of Russia (2000-)            | Military Forces of Ukraine (2019-) | nan                | Ukraine | Donetsk    | Torske      | 49.017   | 37.961    | 2             | 0          | nan  | 1701813041\n",
       "RUS9679       | 3-Apr-23   | 2023 | 1              | Explosions/Remote violence | Air/drone strike                  | Military Forces of Ukraine (2019-) Air Force | Military Forces of Russia (2000-)  | nan                | Russia  | Bryansk    | Sevsk       | 52.148   | 34.489    | 1             | 0          | nan  | 1681311958\n",
       "UKR88498      | 15-Jan-23  | 2023 | 1              | Explosions/Remote violence | Shelling/artillery/missile attack | Military Forces of Russia (2000-)            | nan                                | nan                | Ukraine | Kherson    | Sadove      | 46.705   | 32.822    | 1             | 0          | nan  | 1674572556\n",
       "RUS12150      | 25-Sep-23  | 2023 | 2              | Explosions/Remote violence | Air/drone strike                  | Unidentified Armed Group (Russia)            | nan                                | nan                | Russia  | Voronezh   | Yamnoye     | 51.793   | 39.142    | 1             | 0          | nan  | 1696959098\n",
       "UKR133189     | 27-Oct-23  | 2023 | 1              | Battles                    | Armed clash                       | Military Forces of Russia (2000-)            | Military Forces of Ukraine (2019-) | nan                | Ukraine | Kharkiv    | Synkivka    | 49.763   | 37.705    | 2             | 5          | nan  | 1698774976\n",
       "UKR92056      | 11-Feb-23  | 2023 | 1              | Explosions/Remote violence | Shelling/artillery/missile attack | Military Forces of Russia (2000-)            | nan                                | nan                | Ukraine | Kharkiv    | Vilshana    | 49.793   | 37.762    | 2             | 0          | nan  | 1677001539\n",
       "UKR112643     | 19-Jul-23  | 2023 | 1              | Explosions/Remote violence | Shelling/artillery/missile attack | Military Forces of Russia (2000-)            | nan                                | nan                | Ukraine | Zaporizhia | Bilohiria   | 47.527   | 36        | 1             | 0          | nan  | 1690294196\n",
       "UKR91468      | 4-Feb-23   | 2023 | 1              | Battles                    | Armed clash                       | Military Forces of Russia (2000-)            | Military Forces of Ukraine (2019-) | nan                | Ukraine | Luhansk    | Nevske      | 49.158   | 37.975    | 2             | 0          | nan  | 1677001538\n",
       "UKR104964     | 24-May-23  | 2023 | 1              | Explosions/Remote violence | Shelling/artillery/missile attack | Military Forces of Russia (2000-)            | nan                                | nan                | Ukraine | Chernihiv  | Yanzhulivka | 52.294   | 32.56     | 1             | 0          | nan  | 1685470246\n",
       "UKR95003      | 6-Mar-23   | 2023 | 1              | Explosions/Remote violence | Shelling/artillery/missile attack | Military Forces of Russia (2000-)            | nan                                | nan                | Ukraine | Donetsk    | Rozdolivka  | 48.754   | 38.081    | 2             | 0          | nan  | 1678805153\n",
       "... (290 rows omitted)"
      ]
     },
     "execution_count": 3,
     "metadata": {},
     "output_type": "execute_result"
    }
   ],
   "source": [
    "ACLED_2023_4 = ACLED.where('YEAR', 2023 or 'YEAR' == 2024).sample(300)\n",
    "ACLED_2023_4"
   ]
  },
  {
   "cell_type": "code",
   "execution_count": null,
   "id": "47d3b9a4-bfe6-4d4b-80a2-a26e9aa7a4e8",
   "metadata": {},
   "outputs": [],
   "source": []
  },
  {
   "cell_type": "code",
   "execution_count": 4,
   "id": "6cea6dcb-e9dc-4b25-a64e-ee658109cd23",
   "metadata": {},
   "outputs": [],
   "source": [
    "final_ACLED = ACLED_2022.append(ACLED_2023_4)"
   ]
  },
  {
   "cell_type": "code",
   "execution_count": 5,
   "id": "9d7f1f88-746a-420a-bbee-64cc40336f64",
   "metadata": {},
   "outputs": [
    {
     "data": {
      "text/html": [
       "<table border=\"1\" class=\"dataframe\">\n",
       "    <thead>\n",
       "        <tr>\n",
       "            <th>EVENT_ID_CNTY</th> <th>EVENT_DATE</th> <th>YEAR</th> <th>TIME_PRECISION</th> <th>EVENT_TYPE</th> <th>SUB_EVENT_TYPE</th> <th>ACTOR1</th> <th>ACTOR2</th> <th>CIVILIAN_TARGETING</th> <th>COUNTRY</th> <th>ADMIN1</th> <th>LOCATION</th> <th>LATITUDE</th> <th>LONGITUDE</th> <th>GEO_PRECISION</th> <th>FATALITIES</th> <th>TAGS</th> <th>TIMESTAMP</th>\n",
       "        </tr>\n",
       "    </thead>\n",
       "    <tbody>\n",
       "        <tr>\n",
       "            <td>UKR54571     </td> <td>27-Feb-22 </td> <td>2022</td> <td>1             </td> <td>Explosions/Remote violence</td> <td>Shelling/artillery/missile attack</td> <td>Military Forces of Russia (2000-)          </td> <td>nan                               </td> <td>nan               </td> <td>Ukraine</td> <td>Ivano-Frankivsk</td> <td>Ivano-Frankivsk</td> <td>48.922  </td> <td>24.71    </td> <td>1            </td> <td>0         </td> <td>nan </td> <td>1649184811</td>\n",
       "        </tr>\n",
       "        <tr>\n",
       "            <td>UKR77196     </td> <td>15-Oct-22 </td> <td>2022</td> <td>1             </td> <td>Explosions/Remote violence</td> <td>Shelling/artillery/missile attack</td> <td>Military Forces of Russia (2000-)          </td> <td>Military Forces of Ukraine (2019-)</td> <td>nan               </td> <td>Ukraine</td> <td>Donetsk        </td> <td>Zarichne       </td> <td>49.019  </td> <td>37.921   </td> <td>2            </td> <td>10        </td> <td>nan </td> <td>1693927407</td>\n",
       "        </tr>\n",
       "        <tr>\n",
       "            <td>UKR86383     </td> <td>29-Dec-22 </td> <td>2022</td> <td>1             </td> <td>Explosions/Remote violence</td> <td>Shelling/artillery/missile attack</td> <td>Military Forces of Russia (2000-)          </td> <td>nan                               </td> <td>nan               </td> <td>Ukraine</td> <td>Odesa          </td> <td>Stepove        </td> <td>46.7    </td> <td>30.075   </td> <td>1            </td> <td>0         </td> <td>nan </td> <td>1673376409</td>\n",
       "        </tr>\n",
       "        <tr>\n",
       "            <td>UKR63181     </td> <td>15-Jul-22 </td> <td>2022</td> <td>1             </td> <td>Explosions/Remote violence</td> <td>Air/drone strike                 </td> <td>Military Forces of Russia (2000-) Air Force</td> <td>Civilians (Ukraine)               </td> <td>Civilian targeting</td> <td>Ukraine</td> <td>Dnipropetrovsk </td> <td>Dnipro         </td> <td>48.459  </td> <td>35.039   </td> <td>1            </td> <td>3         </td> <td>nan </td> <td>1682436936</td>\n",
       "        </tr>\n",
       "        <tr>\n",
       "            <td>UKR75308     </td> <td>6-Oct-22  </td> <td>2022</td> <td>1             </td> <td>Battles                   </td> <td>Armed clash                      </td> <td>Military Forces of Russia (2000-)          </td> <td>Military Forces of Ukraine (2019-)</td> <td>nan               </td> <td>Ukraine</td> <td>Donetsk        </td> <td>Bakhmut        </td> <td>48.596  </td> <td>38       </td> <td>2            </td> <td>0         </td> <td>nan </td> <td>1665508789</td>\n",
       "        </tr>\n",
       "        <tr>\n",
       "            <td>UKR71965     </td> <td>8-Sep-22  </td> <td>2022</td> <td>1             </td> <td>Explosions/Remote violence</td> <td>Shelling/artillery/missile attack</td> <td>Military Forces of Russia (2000-)          </td> <td>nan                               </td> <td>nan               </td> <td>Ukraine</td> <td>Donetsk        </td> <td>Siversk        </td> <td>48.873  </td> <td>38.096   </td> <td>2            </td> <td>0         </td> <td>nan </td> <td>1663096253</td>\n",
       "        </tr>\n",
       "        <tr>\n",
       "            <td>UKR65016     </td> <td>28-Jul-22 </td> <td>2022</td> <td>1             </td> <td>Explosions/Remote violence</td> <td>Shelling/artillery/missile attack</td> <td>Military Forces of Russia (2000-)          </td> <td>Civilians (Ukraine)               </td> <td>Civilian targeting</td> <td>Ukraine</td> <td>Kherson        </td> <td>Arkhanhelske   </td> <td>47.432  </td> <td>33.406   </td> <td>1            </td> <td>1         </td> <td>nan </td> <td>1659462993</td>\n",
       "        </tr>\n",
       "        <tr>\n",
       "            <td>UKR84816     </td> <td>14-Dec-22 </td> <td>2022</td> <td>1             </td> <td>Explosions/Remote violence</td> <td>Shelling/artillery/missile attack</td> <td>Military Forces of Russia (2000-)          </td> <td>nan                               </td> <td>nan               </td> <td>Ukraine</td> <td>Sumy           </td> <td>Putyvl         </td> <td>51.337  </td> <td>33.871   </td> <td>2            </td> <td>0         </td> <td>nan </td> <td>1673376404</td>\n",
       "        </tr>\n",
       "        <tr>\n",
       "            <td>UKR125016    </td> <td>30-Aug-22 </td> <td>2022</td> <td>1             </td> <td>Explosions/Remote violence</td> <td>Shelling/artillery/missile attack</td> <td>Military Forces of Russia (2000-)          </td> <td>Military Forces of Ukraine (2019-)</td> <td>nan               </td> <td>Ukraine</td> <td>Kherson        </td> <td>Novovorontsovka</td> <td>47.5    </td> <td>33.917   </td> <td>2            </td> <td>0         </td> <td>nan </td> <td>1694008046</td>\n",
       "        </tr>\n",
       "        <tr>\n",
       "            <td>UKR61960     </td> <td>28-Jun-22 </td> <td>2022</td> <td>1             </td> <td>Explosions/Remote violence</td> <td>Shelling/artillery/missile attack</td> <td>Military Forces of Russia (2000-)          </td> <td>nan                               </td> <td>nan               </td> <td>Ukraine</td> <td>Zaporizhia     </td> <td>Kamianske      </td> <td>47.542  </td> <td>35.366   </td> <td>1            </td> <td>0         </td> <td>nan </td> <td>1657040029</td>\n",
       "        </tr>\n",
       "    </tbody>\n",
       "</table>\n",
       "<p>... (590 rows omitted)</p>"
      ],
      "text/plain": [
       "EVENT_ID_CNTY | EVENT_DATE | YEAR | TIME_PRECISION | EVENT_TYPE                 | SUB_EVENT_TYPE                    | ACTOR1                                      | ACTOR2                             | CIVILIAN_TARGETING | COUNTRY | ADMIN1          | LOCATION        | LATITUDE | LONGITUDE | GEO_PRECISION | FATALITIES | TAGS | TIMESTAMP\n",
       "UKR54571      | 27-Feb-22  | 2022 | 1              | Explosions/Remote violence | Shelling/artillery/missile attack | Military Forces of Russia (2000-)           | nan                                | nan                | Ukraine | Ivano-Frankivsk | Ivano-Frankivsk | 48.922   | 24.71     | 1             | 0          | nan  | 1649184811\n",
       "UKR77196      | 15-Oct-22  | 2022 | 1              | Explosions/Remote violence | Shelling/artillery/missile attack | Military Forces of Russia (2000-)           | Military Forces of Ukraine (2019-) | nan                | Ukraine | Donetsk         | Zarichne        | 49.019   | 37.921    | 2             | 10         | nan  | 1693927407\n",
       "UKR86383      | 29-Dec-22  | 2022 | 1              | Explosions/Remote violence | Shelling/artillery/missile attack | Military Forces of Russia (2000-)           | nan                                | nan                | Ukraine | Odesa           | Stepove         | 46.7     | 30.075    | 1             | 0          | nan  | 1673376409\n",
       "UKR63181      | 15-Jul-22  | 2022 | 1              | Explosions/Remote violence | Air/drone strike                  | Military Forces of Russia (2000-) Air Force | Civilians (Ukraine)                | Civilian targeting | Ukraine | Dnipropetrovsk  | Dnipro          | 48.459   | 35.039    | 1             | 3          | nan  | 1682436936\n",
       "UKR75308      | 6-Oct-22   | 2022 | 1              | Battles                    | Armed clash                       | Military Forces of Russia (2000-)           | Military Forces of Ukraine (2019-) | nan                | Ukraine | Donetsk         | Bakhmut         | 48.596   | 38        | 2             | 0          | nan  | 1665508789\n",
       "UKR71965      | 8-Sep-22   | 2022 | 1              | Explosions/Remote violence | Shelling/artillery/missile attack | Military Forces of Russia (2000-)           | nan                                | nan                | Ukraine | Donetsk         | Siversk         | 48.873   | 38.096    | 2             | 0          | nan  | 1663096253\n",
       "UKR65016      | 28-Jul-22  | 2022 | 1              | Explosions/Remote violence | Shelling/artillery/missile attack | Military Forces of Russia (2000-)           | Civilians (Ukraine)                | Civilian targeting | Ukraine | Kherson         | Arkhanhelske    | 47.432   | 33.406    | 1             | 1          | nan  | 1659462993\n",
       "UKR84816      | 14-Dec-22  | 2022 | 1              | Explosions/Remote violence | Shelling/artillery/missile attack | Military Forces of Russia (2000-)           | nan                                | nan                | Ukraine | Sumy            | Putyvl          | 51.337   | 33.871    | 2             | 0          | nan  | 1673376404\n",
       "UKR125016     | 30-Aug-22  | 2022 | 1              | Explosions/Remote violence | Shelling/artillery/missile attack | Military Forces of Russia (2000-)           | Military Forces of Ukraine (2019-) | nan                | Ukraine | Kherson         | Novovorontsovka | 47.5     | 33.917    | 2             | 0          | nan  | 1694008046\n",
       "UKR61960      | 28-Jun-22  | 2022 | 1              | Explosions/Remote violence | Shelling/artillery/missile attack | Military Forces of Russia (2000-)           | nan                                | nan                | Ukraine | Zaporizhia      | Kamianske       | 47.542   | 35.366    | 1             | 0          | nan  | 1657040029\n",
       "... (590 rows omitted)"
      ]
     },
     "execution_count": 5,
     "metadata": {},
     "output_type": "execute_result"
    }
   ],
   "source": [
    "final_ACLED"
   ]
  },
  {
   "cell_type": "code",
   "execution_count": 6,
   "id": "e6c5b4f3-eabf-4f6f-9069-f4bb04aca37a",
   "metadata": {},
   "outputs": [],
   "source": [
    "final_ACLED.to_csv('ACLED_reduced')"
   ]
  }
 ],
 "metadata": {
  "kernelspec": {
   "display_name": "Python 3",
   "language": "python",
   "name": "python3"
  },
  "language_info": {
   "codemirror_mode": {
    "name": "ipython",
    "version": 3
   },
   "file_extension": ".py",
   "mimetype": "text/x-python",
   "name": "python",
   "nbconvert_exporter": "python",
   "pygments_lexer": "ipython3",
   "version": "3.9.6 (v3.9.6:db3ff76da1, Jun 28 2021, 11:14:58) \n[Clang 12.0.5 (clang-1205.0.22.9)]"
  },
  "vscode": {
   "interpreter": {
    "hash": "aee8b7b246df8f9039afb4144a1f6fd8d2ca17a180786b69acc140d282b71a49"
   }
  }
 },
 "nbformat": 4,
 "nbformat_minor": 5
}
